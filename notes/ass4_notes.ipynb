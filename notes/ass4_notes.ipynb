{
 "cells": [
  {
   "cell_type": "markdown",
   "id": "7f8852dc-cc1d-4682-9195-0eb1f3288f3a",
   "metadata": {},
   "source": [
    "# Feature extraction using VGG16"
   ]
  },
  {
   "cell_type": "code",
   "execution_count": 2,
   "id": "52d9c481-2e98-48fd-9c7a-06b9f857b453",
   "metadata": {
    "execution": {
     "iopub.execute_input": "2022-04-19T18:58:30.188722Z",
     "iopub.status.busy": "2022-04-19T18:58:30.188221Z",
     "iopub.status.idle": "2022-04-19T18:58:30.200334Z",
     "shell.execute_reply": "2022-04-19T18:58:30.199540Z",
     "shell.execute_reply.started": "2022-04-19T18:58:30.188669Z"
    },
    "tags": []
   },
   "outputs": [
    {
     "name": "stderr",
     "output_type": "stream",
     "text": [
      "2023-05-23 23:41:44.807311: I tensorflow/core/platform/cpu_feature_guard.cc:182] This TensorFlow binary is optimized to use available CPU instructions in performance-critical operations.\n",
      "To enable the following instructions: AVX2 AVX512F FMA, in other operations, rebuild TensorFlow with the appropriate compiler flags.\n"
     ]
    }
   ],
   "source": [
    "# import packages - basics \n",
    "import pandas as pd\n",
    "import os\n",
    "import numpy as np\n",
    "import cv2\n",
    "# tf tools\n",
    "import tensorflow as tf\n",
    "# image processsing\n",
    "from tensorflow.keras.preprocessing.image import (load_img,\n",
    "                                                  img_to_array,\n",
    "                                                  ImageDataGenerator)\n",
    "# VGG16 model\n",
    "from tensorflow.keras.applications.vgg16 import (preprocess_input,\n",
    "                                                 decode_predictions,\n",
    "                                                 VGG16)\n",
    "# layers\n",
    "from tensorflow.keras.layers import (Flatten, \n",
    "                                     Dense, \n",
    "                                     Dropout, \n",
    "                                     BatchNormalization)\n",
    "# generic model object\n",
    "from tensorflow.keras.models import Model\n",
    "# optimizers\n",
    "from tensorflow.keras.optimizers.schedules import ExponentialDecay\n",
    "from tensorflow.keras.optimizers import SGD\n",
    "#scikit-learn\n",
    "from sklearn.preprocessing import LabelBinarizer\n",
    "from sklearn.metrics import classification_report\n",
    "# for plotting\n",
    "import matplotlib.pyplot as plt"
   ]
  },
  {
   "cell_type": "markdown",
   "id": "478639e6-1ecd-4f80-aafd-3d340be56d68",
   "metadata": {},
   "source": [
    "## Plotting function (from last week)"
   ]
  },
  {
   "cell_type": "code",
   "execution_count": 3,
   "id": "9a0153a8-8003-4e9f-970d-bda83ad9b8f9",
   "metadata": {
    "execution": {
     "iopub.execute_input": "2022-04-19T18:40:01.558147Z",
     "iopub.status.busy": "2022-04-19T18:40:01.558019Z",
     "iopub.status.idle": "2022-04-19T18:40:01.564573Z",
     "shell.execute_reply": "2022-04-19T18:40:01.564090Z",
     "shell.execute_reply.started": "2022-04-19T18:40:01.558127Z"
    }
   },
   "outputs": [],
   "source": [
    "def plot_history(H, epochs):\n",
    "    plt.style.use(\"seaborn-colorblind\")\n",
    "\n",
    "    plt.figure(figsize=(12,6))\n",
    "    plt.subplot(1,2,1)\n",
    "    plt.plot(np.arange(0, epochs), H.history[\"loss\"], label=\"train_loss\")\n",
    "    plt.plot(np.arange(0, epochs), H.history[\"val_loss\"], label=\"val_loss\", linestyle=\":\")\n",
    "    plt.title(\"Loss curve\")\n",
    "    plt.xlabel(\"Epoch\")\n",
    "    plt.ylabel(\"Loss\")\n",
    "    plt.tight_layout()\n",
    "    plt.legend()\n",
    "\n",
    "    plt.subplot(1,2,2)\n",
    "    plt.plot(np.arange(0, epochs), H.history[\"accuracy\"], label=\"train_acc\")\n",
    "    plt.plot(np.arange(0, epochs), H.history[\"val_accuracy\"], label=\"val_acc\", linestyle=\":\")\n",
    "    plt.title(\"Accuracy curve\")\n",
    "    plt.xlabel(\"Epoch\")\n",
    "    plt.ylabel(\"Accuracy\")\n",
    "    plt.tight_layout()\n",
    "    plt.legend()\n",
    "    plt.show()"
   ]
  },
  {
   "cell_type": "markdown",
   "id": "5e622fd9-5246-4ca1-aa2a-52b30143ba00",
   "metadata": {},
   "source": [
    "## Loading in the data"
   ]
  },
  {
   "cell_type": "code",
   "execution_count": 4,
   "id": "757f80eb",
   "metadata": {},
   "outputs": [],
   "source": [
    "classes=sorted(os.listdir(\"../data/images/train\"))\n",
    "\",\".join([f\"{i}:{c}\" for i,c in enumerate(classes)])\n",
    "# getting rid of the .DS_store thing that Macs apparently do \n",
    "if '.DS_Store' in classes:\n",
    "    classes.remove('.DS_Store')\n"
   ]
  },
  {
   "cell_type": "code",
   "execution_count": 5,
   "id": "9a650466",
   "metadata": {},
   "outputs": [],
   "source": [
    "# these are all the same so can be done the same below \n",
    "train_generator = ImageDataGenerator(rescale=1./255,\n",
    "                                    validation_split=0.2,\n",
    "                                    preprocessing_function = preprocess_input)\n",
    "\n",
    "\n",
    "test_generator = ImageDataGenerator(rescale=1./255,\n",
    "                                    preprocessing_function = preprocess_input)"
   ]
  },
  {
   "cell_type": "code",
   "execution_count": 6,
   "id": "4dedca86",
   "metadata": {},
   "outputs": [
    {
     "name": "stdout",
     "output_type": "stream",
     "text": [
      "Found 1841 images belonging to 10 classes.\n",
      "Found 460 images belonging to 10 classes.\n",
      "Found 1025 images belonging to 10 classes.\n"
     ]
    }
   ],
   "source": [
    "BATCH_SIZE = 32\n",
    "TARGET_SIZE = (224,224)\n",
    "\n",
    "# Split the data into categories\n",
    "train_images = train_generator.flow_from_directory(\n",
    "    \"../data/images/train\",\n",
    "    classes=classes,\n",
    "    target_size=TARGET_SIZE,\n",
    "    color_mode='rgb',\n",
    "    class_mode='categorical',\n",
    "    batch_size=BATCH_SIZE,\n",
    "    subset=\"training\",\n",
    "    seed=42)\n",
    "\n",
    "# Split the data into categories\n",
    "val_images = train_generator.flow_from_directory(\n",
    "    directory=\"../data/images/train\",\n",
    "    classes=classes,\n",
    "    target_size=TARGET_SIZE,\n",
    "    color_mode='rgb',\n",
    "    class_mode='categorical',\n",
    "    batch_size=BATCH_SIZE,\n",
    "    subset=\"validation\",\n",
    "    seed=42)\n",
    "\n",
    "\n",
    "\n",
    "test_images = test_generator.flow_from_directory(\n",
    "    \"../data/images/test\",\n",
    "    # names are inconsistent so changing them to all lowercase \n",
    "    classes=list(map(lambda x:x.lower().replace(\"strawberries\",\"stawberries\"),classes)),\n",
    "    target_size=TARGET_SIZE,\n",
    "    color_mode='rgb',\n",
    "    class_mode='categorical',\n",
    "    batch_size=BATCH_SIZE,\n",
    "    seed=42,\n",
    ")\n",
    "\n"
   ]
  },
  {
   "cell_type": "markdown",
   "id": "3f8e9263",
   "metadata": {},
   "source": [
    "## Initialize the model"
   ]
  },
  {
   "cell_type": "markdown",
   "id": "a7ce0603-33c7-43cf-a008-a31a612e5219",
   "metadata": {
    "execution": {
     "iopub.execute_input": "2022-04-19T18:01:38.833749Z",
     "iopub.status.busy": "2022-04-19T18:01:38.833343Z",
     "iopub.status.idle": "2022-04-19T18:01:38.839212Z",
     "shell.execute_reply": "2022-04-19T18:01:38.838307Z",
     "shell.execute_reply.started": "2022-04-19T18:01:38.833727Z"
    }
   },
   "source": [
    "__Load VGG16 *without* the classification layers__"
   ]
  },
  {
   "cell_type": "markdown",
   "id": "e5063b7a-475a-49d1-a411-59a8a065fdb7",
   "metadata": {},
   "source": [
    "Here we're just loading the convolutional layers and not the final classification network, using the argument ```include_top=False```\n",
    "\n"
   ]
  },
  {
   "cell_type": "code",
   "execution_count": 7,
   "id": "80fb1e4d",
   "metadata": {},
   "outputs": [],
   "source": [
    "# load the model\n",
    "model = VGG16()"
   ]
  },
  {
   "cell_type": "code",
   "execution_count": 8,
   "id": "70f27b7f-79eb-435b-9519-4d042a520a5c",
   "metadata": {
    "execution": {
     "iopub.execute_input": "2022-04-19T18:40:16.084918Z",
     "iopub.status.busy": "2022-04-19T18:40:16.084429Z",
     "iopub.status.idle": "2022-04-19T18:40:16.393600Z",
     "shell.execute_reply": "2022-04-19T18:40:16.392758Z",
     "shell.execute_reply.started": "2022-04-19T18:40:16.084863Z"
    },
    "tags": []
   },
   "outputs": [],
   "source": [
    "# load model without classifier layers\n",
    "model = VGG16(include_top=False, \n",
    "              pooling='avg',\n",
    "              input_shape=(32, 32, 3))"
   ]
  },
  {
   "cell_type": "markdown",
   "id": "8d5058a0-10b4-431b-980e-9e34d7e5addc",
   "metadata": {},
   "source": [
    "__Disable training of Conv layers__\n",
    "\n",
    "We need to disable the convolutional layers before training. Why?"
   ]
  },
  {
   "cell_type": "code",
   "execution_count": 9,
   "id": "90b0a8d0-a1a2-4861-9bb7-b6526b6ba36f",
   "metadata": {
    "execution": {
     "iopub.execute_input": "2022-04-19T18:40:17.155533Z",
     "iopub.status.busy": "2022-04-19T18:40:17.155053Z",
     "iopub.status.idle": "2022-04-19T18:40:17.163374Z",
     "shell.execute_reply": "2022-04-19T18:40:17.162337Z",
     "shell.execute_reply.started": "2022-04-19T18:40:17.155478Z"
    },
    "tags": []
   },
   "outputs": [],
   "source": [
    "# mark loaded layers as not trainable\n",
    "for layer in model.layers:\n",
    "    layer.trainable = False"
   ]
  },
  {
   "cell_type": "markdown",
   "id": "e29c4d82",
   "metadata": {},
   "source": [
    "Means we're freezing the weights and not retraining the model"
   ]
  },
  {
   "cell_type": "code",
   "execution_count": 9,
   "id": "81e2bd3d-9f08-4ab2-8bdd-b04f1836aa85",
   "metadata": {
    "execution": {
     "iopub.execute_input": "2022-04-19T18:40:17.382618Z",
     "iopub.status.busy": "2022-04-19T18:40:17.382037Z",
     "iopub.status.idle": "2022-04-19T18:40:17.422362Z",
     "shell.execute_reply": "2022-04-19T18:40:17.421406Z",
     "shell.execute_reply.started": "2022-04-19T18:40:17.382565Z"
    },
    "tags": []
   },
   "outputs": [
    {
     "name": "stdout",
     "output_type": "stream",
     "text": [
      "Model: \"vgg16\"\n",
      "_________________________________________________________________\n",
      " Layer (type)                Output Shape              Param #   \n",
      "=================================================================\n",
      " input_2 (InputLayer)        [(None, 32, 32, 3)]       0         \n",
      "                                                                 \n",
      " block1_conv1 (Conv2D)       (None, 32, 32, 64)        1792      \n",
      "                                                                 \n",
      " block1_conv2 (Conv2D)       (None, 32, 32, 64)        36928     \n",
      "                                                                 \n",
      " block1_pool (MaxPooling2D)  (None, 16, 16, 64)        0         \n",
      "                                                                 \n",
      " block2_conv1 (Conv2D)       (None, 16, 16, 128)       73856     \n",
      "                                                                 \n",
      " block2_conv2 (Conv2D)       (None, 16, 16, 128)       147584    \n",
      "                                                                 \n",
      " block2_pool (MaxPooling2D)  (None, 8, 8, 128)         0         \n",
      "                                                                 \n",
      " block3_conv1 (Conv2D)       (None, 8, 8, 256)         295168    \n",
      "                                                                 \n",
      " block3_conv2 (Conv2D)       (None, 8, 8, 256)         590080    \n",
      "                                                                 \n",
      " block3_conv3 (Conv2D)       (None, 8, 8, 256)         590080    \n",
      "                                                                 \n",
      " block3_pool (MaxPooling2D)  (None, 4, 4, 256)         0         \n",
      "                                                                 \n",
      " block4_conv1 (Conv2D)       (None, 4, 4, 512)         1180160   \n",
      "                                                                 \n",
      " block4_conv2 (Conv2D)       (None, 4, 4, 512)         2359808   \n",
      "                                                                 \n",
      " block4_conv3 (Conv2D)       (None, 4, 4, 512)         2359808   \n",
      "                                                                 \n",
      " block4_pool (MaxPooling2D)  (None, 2, 2, 512)         0         \n",
      "                                                                 \n",
      " block5_conv1 (Conv2D)       (None, 2, 2, 512)         2359808   \n",
      "                                                                 \n",
      " block5_conv2 (Conv2D)       (None, 2, 2, 512)         2359808   \n",
      "                                                                 \n",
      " block5_conv3 (Conv2D)       (None, 2, 2, 512)         2359808   \n",
      "                                                                 \n",
      " block5_pool (MaxPooling2D)  (None, 1, 1, 512)         0         \n",
      "                                                                 \n",
      " global_average_pooling2d (G  (None, 512)              0         \n",
      " lobalAveragePooling2D)                                          \n",
      "                                                                 \n",
      "=================================================================\n",
      "Total params: 14,714,688\n",
      "Trainable params: 0\n",
      "Non-trainable params: 14,714,688\n",
      "_________________________________________________________________\n"
     ]
    }
   ],
   "source": [
    "model.summary()"
   ]
  },
  {
   "cell_type": "markdown",
   "id": "c3cfd6a7-ea47-4236-abf7-d94e130c4b5a",
   "metadata": {},
   "source": [
    "__Add new classification layers__\n",
    "\n",
    "We now add new classification layers after the convolutional layers.\n",
    "\n",
    "Notice how here we are not using the ```Sequential```, so we have to explicitly name the preceding layer in the model!"
   ]
  },
  {
   "cell_type": "code",
   "execution_count": 10,
   "id": "07f4a5e7-b892-4712-a02c-aca1cc0971f8",
   "metadata": {},
   "outputs": [],
   "source": [
    "tf.keras.backend.clear_session()"
   ]
  },
  {
   "cell_type": "code",
   "execution_count": 11,
   "id": "87f8b02b-a232-42b6-b75b-7d2ef9b87fc4",
   "metadata": {
    "execution": {
     "iopub.execute_input": "2022-04-19T18:58:35.786002Z",
     "iopub.status.busy": "2022-04-19T18:58:35.785500Z",
     "iopub.status.idle": "2022-04-19T18:58:35.863824Z",
     "shell.execute_reply": "2022-04-19T18:58:35.863169Z",
     "shell.execute_reply.started": "2022-04-19T18:58:35.785947Z"
    },
    "tags": []
   },
   "outputs": [
    {
     "name": "stdout",
     "output_type": "stream",
     "text": [
      "Model: \"model\"\n",
      "_________________________________________________________________\n",
      " Layer (type)                Output Shape              Param #   \n",
      "=================================================================\n",
      " input_2 (InputLayer)        [(None, 32, 32, 3)]       0         \n",
      "                                                                 \n",
      " block1_conv1 (Conv2D)       (None, 32, 32, 64)        1792      \n",
      "                                                                 \n",
      " block1_conv2 (Conv2D)       (None, 32, 32, 64)        36928     \n",
      "                                                                 \n",
      " block1_pool (MaxPooling2D)  (None, 16, 16, 64)        0         \n",
      "                                                                 \n",
      " block2_conv1 (Conv2D)       (None, 16, 16, 128)       73856     \n",
      "                                                                 \n",
      " block2_conv2 (Conv2D)       (None, 16, 16, 128)       147584    \n",
      "                                                                 \n",
      " block2_pool (MaxPooling2D)  (None, 8, 8, 128)         0         \n",
      "                                                                 \n",
      " block3_conv1 (Conv2D)       (None, 8, 8, 256)         295168    \n",
      "                                                                 \n",
      " block3_conv2 (Conv2D)       (None, 8, 8, 256)         590080    \n",
      "                                                                 \n",
      " block3_conv3 (Conv2D)       (None, 8, 8, 256)         590080    \n",
      "                                                                 \n",
      " block3_pool (MaxPooling2D)  (None, 4, 4, 256)         0         \n",
      "                                                                 \n",
      " block4_conv1 (Conv2D)       (None, 4, 4, 512)         1180160   \n",
      "                                                                 \n",
      " block4_conv2 (Conv2D)       (None, 4, 4, 512)         2359808   \n",
      "                                                                 \n",
      " block4_conv3 (Conv2D)       (None, 4, 4, 512)         2359808   \n",
      "                                                                 \n",
      " block4_pool (MaxPooling2D)  (None, 2, 2, 512)         0         \n",
      "                                                                 \n",
      " block5_conv1 (Conv2D)       (None, 2, 2, 512)         2359808   \n",
      "                                                                 \n",
      " block5_conv2 (Conv2D)       (None, 2, 2, 512)         2359808   \n",
      "                                                                 \n",
      " block5_conv3 (Conv2D)       (None, 2, 2, 512)         2359808   \n",
      "                                                                 \n",
      " block5_pool (MaxPooling2D)  (None, 1, 1, 512)         0         \n",
      "                                                                 \n",
      " global_average_pooling2d (G  (None, 512)              0         \n",
      " lobalAveragePooling2D)                                          \n",
      "                                                                 \n",
      " flatten (Flatten)           (None, 512)               0         \n",
      "                                                                 \n",
      " dense (Dense)               (None, 128)               65664     \n",
      "                                                                 \n",
      " dense_1 (Dense)             (None, 10)                1290      \n",
      "                                                                 \n",
      "=================================================================\n",
      "Total params: 14,781,642\n",
      "Trainable params: 66,954\n",
      "Non-trainable params: 14,714,688\n",
      "_________________________________________________________________\n"
     ]
    }
   ],
   "source": [
    "# add new classifier layers - another way of adding layers - different than previous syntax we've seen before \n",
    "flat1 = Flatten()(model.layers[-1].output) \n",
    "class1 = Dense(128, activation='relu')(flat1) \n",
    "output = Dense(len(classes), activation='softmax')(class1) # Change here for how many labels there are - changed to len of classes \n",
    "\n",
    "# define new model\n",
    "model = Model(inputs=model.inputs, \n",
    "              outputs=output)\n",
    "# summarize\n",
    "model.summary()"
   ]
  },
  {
   "cell_type": "markdown",
   "id": "5d823562",
   "metadata": {},
   "source": [
    "Can now compare with above and can see we added almost 67,000  trainable parameters "
   ]
  },
  {
   "cell_type": "markdown",
   "id": "a7661feb-6be0-47b6-a243-43bec3ed96da",
   "metadata": {},
   "source": [
    "__Compile__"
   ]
  },
  {
   "cell_type": "markdown",
   "id": "d20a151e-e2cf-45a9-a79f-87d466195c41",
   "metadata": {},
   "source": [
    "We're going to be using a more sophisticated optimization algorithm, which you can read about [here](https://www.tensorflow.org/api_docs/python/tf/keras/optimizers/schedules/ExponentialDecay)."
   ]
  },
  {
   "cell_type": "code",
   "execution_count": 12,
   "id": "51421b8b-2a08-4b4b-96c1-2306cae34796",
   "metadata": {
    "execution": {
     "iopub.execute_input": "2022-04-19T18:40:25.350347Z",
     "iopub.status.busy": "2022-04-19T18:40:25.349823Z",
     "iopub.status.idle": "2022-04-19T18:40:25.359091Z",
     "shell.execute_reply": "2022-04-19T18:40:25.357799Z",
     "shell.execute_reply.started": "2022-04-19T18:40:25.350291Z"
    },
    "tags": []
   },
   "outputs": [],
   "source": [
    "lr_schedule = tf.keras.optimizers.schedules.ExponentialDecay(\n",
    "    initial_learning_rate=0.01, \n",
    "    decay_steps=10000,\n",
    "    decay_rate=0.9)\n",
    "sgd = SGD(learning_rate=lr_schedule)"
   ]
  },
  {
   "cell_type": "code",
   "execution_count": 13,
   "id": "42664802-f463-4bda-afb1-fc9506a97930",
   "metadata": {
    "execution": {
     "iopub.execute_input": "2022-04-19T18:40:25.695597Z",
     "iopub.status.busy": "2022-04-19T18:40:25.695135Z",
     "iopub.status.idle": "2022-04-19T18:40:25.714727Z",
     "shell.execute_reply": "2022-04-19T18:40:25.713807Z",
     "shell.execute_reply.started": "2022-04-19T18:40:25.695543Z"
    },
    "tags": []
   },
   "outputs": [],
   "source": [
    "model.compile(optimizer=sgd,\n",
    "              loss='categorical_crossentropy',\n",
    "              metrics=['accuracy'])"
   ]
  },
  {
   "cell_type": "markdown",
   "id": "45c0f687-096f-43da-94ea-e2b6c9a3cb68",
   "metadata": {},
   "source": [
    "__Train__"
   ]
  },
  {
   "cell_type": "code",
   "execution_count": 15,
   "id": "0fb24e5f-1687-46c8-829f-420bd0527909",
   "metadata": {
    "execution": {
     "iopub.execute_input": "2022-04-19T18:40:26.867690Z",
     "iopub.status.busy": "2022-04-19T18:40:26.867170Z",
     "iopub.status.idle": "2022-04-19T19:04:00.462962Z",
     "shell.execute_reply": "2022-04-19T19:04:00.461166Z",
     "shell.execute_reply.started": "2022-04-19T18:59:02.500606Z"
    },
    "tags": []
   },
   "outputs": [
    {
     "name": "stdout",
     "output_type": "stream",
     "text": [
      "Epoch 1/25\n"
     ]
    },
    {
     "name": "stderr",
     "output_type": "stream",
     "text": [
      "2023-05-23 20:56:03.570934: I tensorflow/core/common_runtime/executor.cc:1197] [/device:CPU:0] (DEBUG INFO) Executor start aborting (this does not indicate an error and you can ignore this message): INVALID_ARGUMENT: You must feed a value for placeholder tensor 'Placeholder/_0' with dtype int32\n",
      "\t [[{{node Placeholder/_0}}]]\n"
     ]
    },
    {
     "name": "stdout",
     "output_type": "stream",
     "text": [
      "58/58 [==============================] - ETA: 0s - loss: 2.2233 - accuracy: 0.2042"
     ]
    },
    {
     "name": "stderr",
     "output_type": "stream",
     "text": [
      "2023-05-23 20:57:43.341898: I tensorflow/core/common_runtime/executor.cc:1197] [/device:CPU:0] (DEBUG INFO) Executor start aborting (this does not indicate an error and you can ignore this message): INVALID_ARGUMENT: You must feed a value for placeholder tensor 'Placeholder/_0' with dtype int32\n",
      "\t [[{{node Placeholder/_0}}]]\n"
     ]
    },
    {
     "name": "stdout",
     "output_type": "stream",
     "text": [
      "58/58 [==============================] - 129s 2s/step - loss: 2.2233 - accuracy: 0.2042 - val_loss: 2.1641 - val_accuracy: 0.2913\n",
      "Epoch 2/25\n",
      "58/58 [==============================] - 84s 1s/step - loss: 2.1390 - accuracy: 0.3167 - val_loss: 2.0964 - val_accuracy: 0.3674\n",
      "Epoch 3/25\n",
      "58/58 [==============================] - 83s 1s/step - loss: 2.0608 - accuracy: 0.3998 - val_loss: 2.0238 - val_accuracy: 0.4652\n",
      "Epoch 4/25\n",
      "58/58 [==============================] - 83s 1s/step - loss: 1.9877 - accuracy: 0.4335 - val_loss: 1.9680 - val_accuracy: 0.3978\n",
      "Epoch 5/25\n",
      "58/58 [==============================] - 85s 1s/step - loss: 1.9210 - accuracy: 0.4666 - val_loss: 1.8898 - val_accuracy: 0.4891\n",
      "Epoch 6/25\n",
      "58/58 [==============================] - 83s 1s/step - loss: 1.8503 - accuracy: 0.5133 - val_loss: 1.8248 - val_accuracy: 0.5696\n",
      "Epoch 7/25\n",
      "58/58 [==============================] - 84s 1s/step - loss: 1.7869 - accuracy: 0.5334 - val_loss: 1.7572 - val_accuracy: 0.5891\n",
      "Epoch 8/25\n",
      "58/58 [==============================] - 85s 1s/step - loss: 1.7231 - accuracy: 0.5497 - val_loss: 1.7024 - val_accuracy: 0.5587\n",
      "Epoch 9/25\n",
      "58/58 [==============================] - 85s 1s/step - loss: 1.6634 - accuracy: 0.5660 - val_loss: 1.6544 - val_accuracy: 0.5587\n",
      "Epoch 10/25\n",
      "58/58 [==============================] - 82s 1s/step - loss: 1.6060 - accuracy: 0.5779 - val_loss: 1.5894 - val_accuracy: 0.6087\n",
      "Epoch 11/25\n",
      "58/58 [==============================] - 79s 1s/step - loss: 1.5528 - accuracy: 0.5942 - val_loss: 1.5427 - val_accuracy: 0.5783\n",
      "Epoch 12/25\n",
      "58/58 [==============================] - 81s 1s/step - loss: 1.4992 - accuracy: 0.6051 - val_loss: 1.5007 - val_accuracy: 0.6217\n",
      "Epoch 13/25\n",
      "58/58 [==============================] - 84s 1s/step - loss: 1.4493 - accuracy: 0.6301 - val_loss: 1.4621 - val_accuracy: 0.6152\n",
      "Epoch 14/25\n",
      "58/58 [==============================] - 80s 1s/step - loss: 1.4052 - accuracy: 0.6263 - val_loss: 1.3990 - val_accuracy: 0.6413\n",
      "Epoch 15/25\n",
      "58/58 [==============================] - 82s 1s/step - loss: 1.3647 - accuracy: 0.6393 - val_loss: 1.3546 - val_accuracy: 0.6739\n",
      "Epoch 16/25\n",
      "58/58 [==============================] - 83s 1s/step - loss: 1.3254 - accuracy: 0.6458 - val_loss: 1.3205 - val_accuracy: 0.6457\n",
      "Epoch 17/25\n",
      "58/58 [==============================] - 79s 1s/step - loss: 1.2866 - accuracy: 0.6659 - val_loss: 1.2929 - val_accuracy: 0.6652\n",
      "Epoch 18/25\n",
      "58/58 [==============================] - 80s 1s/step - loss: 1.2501 - accuracy: 0.6719 - val_loss: 1.2504 - val_accuracy: 0.6761\n",
      "Epoch 19/25\n",
      "58/58 [==============================] - 82s 1s/step - loss: 1.2184 - accuracy: 0.6659 - val_loss: 1.2221 - val_accuracy: 0.6565\n",
      "Epoch 20/25\n",
      "58/58 [==============================] - 81s 1s/step - loss: 1.1854 - accuracy: 0.6877 - val_loss: 1.1899 - val_accuracy: 0.6739\n",
      "Epoch 21/25\n",
      "58/58 [==============================] - 80s 1s/step - loss: 1.1552 - accuracy: 0.6877 - val_loss: 1.1736 - val_accuracy: 0.6826\n",
      "Epoch 22/25\n",
      "58/58 [==============================] - 82s 1s/step - loss: 1.1262 - accuracy: 0.6964 - val_loss: 1.1338 - val_accuracy: 0.6913\n",
      "Epoch 23/25\n",
      "58/58 [==============================] - 84s 1s/step - loss: 1.1001 - accuracy: 0.6964 - val_loss: 1.1223 - val_accuracy: 0.6935\n",
      "Epoch 24/25\n",
      "58/58 [==============================] - 78s 1s/step - loss: 1.0782 - accuracy: 0.7148 - val_loss: 1.0825 - val_accuracy: 0.6870\n",
      "Epoch 25/25\n",
      "58/58 [==============================] - 83s 1s/step - loss: 1.0507 - accuracy: 0.7203 - val_loss: 1.0626 - val_accuracy: 0.6848\n"
     ]
    }
   ],
   "source": [
    "batch_size = 125\n",
    "H = model.fit(train_images,\n",
    "            batch_size=batch_size,\n",
    "            validation_data=val_images,\n",
    "            #steps_per_epoch=train_images.samples // batch_size,\n",
    "            #validation_steps=val_images.samples // batch_size,\n",
    "            epochs=25,\n",
    "            verbose=1)"
   ]
  },
  {
   "cell_type": "markdown",
   "id": "a461d6b6-3fc4-4951-be90-f37ca2678c22",
   "metadata": {},
   "source": [
    "__Evaluate__"
   ]
  },
  {
   "cell_type": "code",
   "execution_count": 16,
   "id": "c399b54f-d3f5-466c-a517-c182f625b045",
   "metadata": {
    "execution": {
     "iopub.execute_input": "2022-04-19T19:04:22.000252Z",
     "iopub.status.busy": "2022-04-19T19:04:21.999757Z",
     "iopub.status.idle": "2022-04-19T19:04:22.241606Z",
     "shell.execute_reply": "2022-04-19T19:04:22.241020Z",
     "shell.execute_reply.started": "2022-04-19T19:04:22.000197Z"
    },
    "tags": []
   },
   "outputs": [
    {
     "name": "stderr",
     "output_type": "stream",
     "text": [
      "/tmp/ipykernel_1331/3716877966.py:2: MatplotlibDeprecationWarning: The seaborn styles shipped by Matplotlib are deprecated since 3.6, as they no longer correspond to the styles shipped by seaborn. However, they will remain available as 'seaborn-v0_8-<style>'. Alternatively, directly use the seaborn API instead.\n",
      "  plt.style.use(\"seaborn-colorblind\")\n"
     ]
    },
    {
     "data": {
      "image/png": "[encoded data removed]",
      "text/plain": [
       "<Figure size 1200x600 with 2 Axes>"
      ]
     },
     "metadata": {},
     "output_type": "display_data"
    }
   ],
   "source": [
    "# the number is for the number of epochs \n",
    "plot_history(H, 25)"
   ]
  },
  {
   "cell_type": "markdown",
   "id": "6e511487",
   "metadata": {},
   "source": [
    "The downward tragectory of the learning curve suggests that it have more to learn. No surprise since it was only a handful of epochs with not a lot of data. "
   ]
  },
  {
   "cell_type": "code",
   "execution_count": 16,
   "id": "fc775896",
   "metadata": {},
   "outputs": [
    {
     "name": "stderr",
     "output_type": "stream",
     "text": [
      "2023-05-20 00:10:35.156629: I tensorflow/core/common_runtime/executor.cc:1197] [/device:CPU:0] (DEBUG INFO) Executor start aborting (this does not indicate an error and you can ignore this message): INVALID_ARGUMENT: You must feed a value for placeholder tensor 'Placeholder/_0' with dtype int32\n",
      "\t [[{{node Placeholder/_0}}]]\n"
     ]
    },
    {
     "name": "stdout",
     "output_type": "stream",
     "text": [
      "33/33 [==============================] - 61s 2s/step - loss: 1.1531 - accuracy: 0.6576\n"
     ]
    },
    {
     "data": {
      "text/plain": [
       "[1.1531099081039429, 0.6575610041618347]"
      ]
     },
     "execution_count": 16,
     "metadata": {},
     "output_type": "execute_result"
    }
   ],
   "source": [
    "model.evaluate(test_images)\n"
   ]
  },
  {
   "cell_type": "markdown",
   "id": "3283c38d",
   "metadata": {},
   "source": [
    "So accuracy is 44% in the test set which is 4% less than the validation accuracy during training. "
   ]
  },
  {
   "cell_type": "code",
   "execution_count": 18,
   "id": "a965d5ff-3edd-472c-aa1f-5c91ed527ed9",
   "metadata": {
    "execution": {
     "iopub.execute_input": "2022-04-19T19:04:25.887858Z",
     "iopub.status.busy": "2022-04-19T19:04:25.887365Z",
     "iopub.status.idle": "2022-04-19T19:04:30.930497Z",
     "shell.execute_reply": "2022-04-19T19:04:30.929814Z",
     "shell.execute_reply.started": "2022-04-19T19:04:25.887803Z"
    },
    "tags": []
   },
   "outputs": [
    {
     "name": "stderr",
     "output_type": "stream",
     "text": [
      "2023-05-23 23:39:58.181849: I tensorflow/core/common_runtime/executor.cc:1197] [/device:CPU:0] (DEBUG INFO) Executor start aborting (this does not indicate an error and you can ignore this message): INVALID_ARGUMENT: You must feed a value for placeholder tensor 'Placeholder/_0' with dtype int32\n",
      "\t [[{{node Placeholder/_0}}]]\n"
     ]
    },
    {
     "name": "stdout",
     "output_type": "stream",
     "text": [
      "33/33 [==============================] - 29s 882ms/step\n",
      "              precision    recall  f1-score   support\n",
      "\n",
      "       Apple       0.08      0.07      0.07        89\n",
      "      Banana       0.14      0.13      0.14       106\n",
      "     avocado       0.11      0.14      0.13       105\n",
      "      cherry       0.09      0.10      0.09       105\n",
      "        kiwi       0.07      0.06      0.06       105\n",
      "       mango       0.07      0.09      0.08       105\n",
      "      orange       0.11      0.10      0.11        97\n",
      "  pinenapple       0.15      0.18      0.16       105\n",
      "strawberries       0.11      0.10      0.10       103\n",
      "  watermelon       0.10      0.09      0.09       105\n",
      "\n",
      "    accuracy                           0.11      1025\n",
      "   macro avg       0.10      0.10      0.10      1025\n",
      "weighted avg       0.10      0.11      0.10      1025\n",
      "\n"
     ]
    }
   ],
   "source": [
    "predictions = model.predict(test_images, batch_size=32)\n",
    "print(classification_report(test_images.classes,\n",
    "                            predictions.argmax(axis=1),\n",
    "                            target_names=classes)) \n"
   ]
  },
  {
   "cell_type": "markdown",
   "id": "53c13e8b",
   "metadata": {},
   "source": [
    "Accuracy is pretty terrible. Hoping for better with data augmentation to make dataset bigger. "
   ]
  },
  {
   "cell_type": "markdown",
   "id": "50a3dd55-fa11-4792-8e20-767c527b6e5c",
   "metadata": {},
   "source": [
    "## Using data augmentation"
   ]
  },
  {
   "cell_type": "markdown",
   "id": "77e42f2a-81fa-4ace-bec4-78b14217b628",
   "metadata": {},
   "source": [
    "__Reload model__"
   ]
  },
  {
   "cell_type": "code",
   "execution_count": 10,
   "id": "e6f99871",
   "metadata": {},
   "outputs": [],
   "source": [
    "del model\n",
    "tf.keras.backend.clear_session()"
   ]
  },
  {
   "cell_type": "code",
   "execution_count": 11,
   "id": "0f605dfd-c492-4a6d-9d3e-f8d99cee4a7f",
   "metadata": {
    "execution": {
     "iopub.execute_input": "2022-04-19T19:19:11.939269Z",
     "iopub.status.busy": "2022-04-19T19:19:11.938774Z",
     "iopub.status.idle": "2022-04-19T19:19:12.276631Z",
     "shell.execute_reply": "2022-04-19T19:19:12.276040Z",
     "shell.execute_reply.started": "2022-04-19T19:19:11.939215Z"
    },
    "tags": []
   },
   "outputs": [
    {
     "name": "stdout",
     "output_type": "stream",
     "text": [
      "Model: \"model\"\n",
      "_________________________________________________________________\n",
      " Layer (type)                Output Shape              Param #   \n",
      "=================================================================\n",
      " input_1 (InputLayer)        [(None, 32, 32, 3)]       0         \n",
      "                                                                 \n",
      " block1_conv1 (Conv2D)       (None, 32, 32, 64)        1792      \n",
      "                                                                 \n",
      " block1_conv2 (Conv2D)       (None, 32, 32, 64)        36928     \n",
      "                                                                 \n",
      " block1_pool (MaxPooling2D)  (None, 16, 16, 64)        0         \n",
      "                                                                 \n",
      " block2_conv1 (Conv2D)       (None, 16, 16, 128)       73856     \n",
      "                                                                 \n",
      " block2_conv2 (Conv2D)       (None, 16, 16, 128)       147584    \n",
      "                                                                 \n",
      " block2_pool (MaxPooling2D)  (None, 8, 8, 128)         0         \n",
      "                                                                 \n",
      " block3_conv1 (Conv2D)       (None, 8, 8, 256)         295168    \n",
      "                                                                 \n",
      " block3_conv2 (Conv2D)       (None, 8, 8, 256)         590080    \n",
      "                                                                 \n",
      " block3_conv3 (Conv2D)       (None, 8, 8, 256)         590080    \n",
      "                                                                 \n",
      " block3_pool (MaxPooling2D)  (None, 4, 4, 256)         0         \n",
      "                                                                 \n",
      " block4_conv1 (Conv2D)       (None, 4, 4, 512)         1180160   \n",
      "                                                                 \n",
      " block4_conv2 (Conv2D)       (None, 4, 4, 512)         2359808   \n",
      "                                                                 \n",
      " block4_conv3 (Conv2D)       (None, 4, 4, 512)         2359808   \n",
      "                                                                 \n",
      " block4_pool (MaxPooling2D)  (None, 2, 2, 512)         0         \n",
      "                                                                 \n",
      " block5_conv1 (Conv2D)       (None, 2, 2, 512)         2359808   \n",
      "                                                                 \n",
      " block5_conv2 (Conv2D)       (None, 2, 2, 512)         2359808   \n",
      "                                                                 \n",
      " block5_conv3 (Conv2D)       (None, 2, 2, 512)         2359808   \n",
      "                                                                 \n",
      " block5_pool (MaxPooling2D)  (None, 1, 1, 512)         0         \n",
      "                                                                 \n",
      " global_average_pooling2d (G  (None, 512)              0         \n",
      " lobalAveragePooling2D)                                          \n",
      "                                                                 \n",
      " flatten (Flatten)           (None, 512)               0         \n",
      "                                                                 \n",
      " batch_normalization (BatchN  (None, 512)              2048      \n",
      " ormalization)                                                   \n",
      "                                                                 \n",
      " dense (Dense)               (None, 256)               131328    \n",
      "                                                                 \n",
      " dense_1 (Dense)             (None, 128)               32896     \n",
      "                                                                 \n",
      " dense_2 (Dense)             (None, 10)                1290      \n",
      "                                                                 \n",
      "=================================================================\n",
      "Total params: 14,882,250\n",
      "Trainable params: 166,538\n",
      "Non-trainable params: 14,715,712\n",
      "_________________________________________________________________\n"
     ]
    }
   ],
   "source": [
    "# load model without classifier layers\n",
    "model = VGG16(include_top=False, \n",
    "              pooling='avg',\n",
    "              input_shape=(32, 32, 3))\n",
    "\n",
    "# mark loaded layers as not trainable\n",
    "for layer in model.layers:\n",
    "    layer.trainable = False\n",
    "    \n",
    "# add new classifier layers\n",
    "flat1 = Flatten()(model.layers[-1].output)\n",
    "bn = BatchNormalization()(flat1)            ## take the outputs (image embeddings) and normalize them \n",
    "class1 = Dense(256,                         ### only difference is adding this extra hidden layer \n",
    "               activation='relu')(bn)\n",
    "class2 = Dense(128, \n",
    "               activation='relu')(class1)\n",
    "output = Dense(len(classes), \n",
    "               activation='softmax')(class2)\n",
    "\n",
    "# define new model\n",
    "model = Model(inputs=model.inputs, \n",
    "              outputs=output)\n",
    "\n",
    "# compile\n",
    "lr_schedule = tf.keras.optimizers.schedules.ExponentialDecay(\n",
    "    initial_learning_rate=0.01,\n",
    "    decay_steps=10000,\n",
    "    decay_rate=0.9)\n",
    "sgd = SGD(learning_rate=lr_schedule)\n",
    "\n",
    "model.compile(optimizer=sgd,\n",
    "              loss='categorical_crossentropy',\n",
    "              metrics=['accuracy'])\n",
    "# summarize\n",
    "model.summary()"
   ]
  },
  {
   "cell_type": "markdown",
   "id": "59e8ad59-8ae8-4270-a466-ebc2e230d049",
   "metadata": {},
   "source": [
    "__Define data generator__"
   ]
  },
  {
   "cell_type": "markdown",
   "id": "0a295a14-fa67-4c94-ab7e-0c4a4ae6c3c2",
   "metadata": {},
   "source": [
    "You can see the documentation for ImageDataGenerator [here](https://www.tensorflow.org/api_docs/python/tf/keras/preprocessing/image/ImageDataGenerator)"
   ]
  },
  {
   "cell_type": "code",
   "execution_count": 12,
   "id": "fb7e7ac7-0c5c-4478-a0ab-16763ca51ad9",
   "metadata": {
    "execution": {
     "iopub.execute_input": "2022-04-19T19:19:13.828189Z",
     "iopub.status.busy": "2022-04-19T19:19:13.827703Z",
     "iopub.status.idle": "2022-04-19T19:19:13.834764Z",
     "shell.execute_reply": "2022-04-19T19:19:13.833783Z",
     "shell.execute_reply.started": "2022-04-19T19:19:13.828135Z"
    },
    "tags": []
   },
   "outputs": [],
   "source": [
    "# flip along x axis (mirror image)\n",
    "datagen = ImageDataGenerator(rescale=1./255,\n",
    "                            validation_split=0.2,\n",
    "                            horizontal_flip=True, \n",
    "                            rotation_range=20, # how many degrees to rotate it \n",
    "                            preprocessing_function = preprocess_input)"
   ]
  },
  {
   "cell_type": "code",
   "execution_count": 13,
   "id": "7178b4aa",
   "metadata": {},
   "outputs": [],
   "source": [
    "# these are all the same so can be done the same below \n",
    "#train_generator = ImageDataGenerator(rescale=1./255,\n",
    "#                                    validation_split=0.2)\n",
    "\n",
    "\n",
    "test_datagen = ImageDataGenerator(rescale=1./255,  \n",
    "                            horizontal_flip=True, \n",
    "                            rotation_range=20, # how many degrees to rotate it \n",
    "                            preprocessing_function = preprocess_input)"
   ]
  },
  {
   "cell_type": "markdown",
   "id": "ae6b1f9d-d19a-45c7-b976-32f66ebe7094",
   "metadata": {},
   "source": [
    "We're choosing to generate data on the fly, rather than save it to a folder. This validation split labels some as training and some as validation which we use below when training. "
   ]
  },
  {
   "cell_type": "markdown",
   "id": "ed17f14c",
   "metadata": {},
   "source": [
    "__Train__"
   ]
  },
  {
   "cell_type": "code",
   "execution_count": 14,
   "id": "46b45554",
   "metadata": {},
   "outputs": [
    {
     "name": "stdout",
     "output_type": "stream",
     "text": [
      "Found 1841 images belonging to 10 classes.\n",
      "Found 460 images belonging to 10 classes.\n",
      "Found 1025 images belonging to 10 classes.\n"
     ]
    }
   ],
   "source": [
    "BATCH_SIZE = 32\n",
    "TARGET_SIZE = (224,224)\n",
    "\n",
    "# Split the data into categories\n",
    "train_images = datagen.flow_from_directory(\n",
    "    \"../data/images/train\",\n",
    "    classes=classes,\n",
    "    target_size=TARGET_SIZE,\n",
    "    color_mode='rgb',\n",
    "    class_mode='categorical',\n",
    "    batch_size=BATCH_SIZE,\n",
    "    subset=\"training\",\n",
    "    seed=42)\n",
    "\n",
    "# Split the data into categories\n",
    "val_images = datagen.flow_from_directory(\n",
    "    directory=\"../data/images/train\",\n",
    "    classes=classes,\n",
    "    target_size=TARGET_SIZE,\n",
    "    color_mode='rgb',\n",
    "    class_mode='categorical',\n",
    "    batch_size=BATCH_SIZE,\n",
    "    subset=\"validation\",\n",
    "    seed=42)\n",
    "\n",
    "\n",
    "test_images = test_datagen.flow_from_directory(\n",
    "    \"../data/images/test\",\n",
    "    # names are inconsistent so changing them to all lowercase \n",
    "    classes=list(map(lambda x:x.lower().replace(\"strawberries\",\"stawberries\"),classes)),\n",
    "    target_size=TARGET_SIZE,\n",
    "    color_mode='rgb',\n",
    "    class_mode='categorical',\n",
    "    batch_size=BATCH_SIZE,\n",
    "    seed=42,\n",
    ")"
   ]
  },
  {
   "cell_type": "code",
   "execution_count": 23,
   "id": "5dfe9f59",
   "metadata": {},
   "outputs": [
    {
     "name": "stdout",
     "output_type": "stream",
     "text": [
      "Epoch 1/25\n"
     ]
    },
    {
     "name": "stderr",
     "output_type": "stream",
     "text": [
      "2023-05-20 00:15:07.053851: I tensorflow/core/common_runtime/executor.cc:1197] [/device:CPU:0] (DEBUG INFO) Executor start aborting (this does not indicate an error and you can ignore this message): INVALID_ARGUMENT: You must feed a value for placeholder tensor 'Placeholder/_0' with dtype int32\n",
      "\t [[{{node Placeholder/_0}}]]\n"
     ]
    },
    {
     "name": "stdout",
     "output_type": "stream",
     "text": [
      "28/28 [==============================] - ETA: 0s - loss: 2.3442 - accuracy: 0.1663"
     ]
    },
    {
     "name": "stderr",
     "output_type": "stream",
     "text": [
      "2023-05-20 00:15:35.056944: I tensorflow/core/common_runtime/executor.cc:1197] [/device:CPU:0] (DEBUG INFO) Executor start aborting (this does not indicate an error and you can ignore this message): INVALID_ARGUMENT: You must feed a value for placeholder tensor 'Placeholder/_0' with dtype int32\n",
      "\t [[{{node Placeholder/_0}}]]\n"
     ]
    },
    {
     "name": "stdout",
     "output_type": "stream",
     "text": [
      "28/28 [==============================] - 35s 1s/step - loss: 2.3442 - accuracy: 0.1663 - val_loss: 2.2980 - val_accuracy: 0.1339\n",
      "Epoch 2/25\n",
      "28/28 [==============================] - 33s 1s/step - loss: 1.9732 - accuracy: 0.3564 - val_loss: 2.1938 - val_accuracy: 0.2946\n",
      "Epoch 3/25\n",
      "28/28 [==============================] - 33s 1s/step - loss: 1.6723 - accuracy: 0.4972 - val_loss: 2.0938 - val_accuracy: 0.3884\n",
      "Epoch 4/25\n",
      "28/28 [==============================] - 34s 1s/step - loss: 1.4630 - accuracy: 0.5759 - val_loss: 2.0367 - val_accuracy: 0.4196\n",
      "Epoch 5/25\n",
      "28/28 [==============================] - 34s 1s/step - loss: 1.3409 - accuracy: 0.6194 - val_loss: 1.9206 - val_accuracy: 0.4866\n",
      "Epoch 6/25\n",
      "28/28 [==============================] - 33s 1s/step - loss: 1.1794 - accuracy: 0.6742 - val_loss: 1.7819 - val_accuracy: 0.5804\n",
      "Epoch 7/25\n",
      "28/28 [==============================] - 33s 1s/step - loss: 1.0851 - accuracy: 0.7003 - val_loss: 1.6763 - val_accuracy: 0.5982\n",
      "Epoch 8/25\n",
      "28/28 [==============================] - 33s 1s/step - loss: 0.9821 - accuracy: 0.7230 - val_loss: 1.5275 - val_accuracy: 0.7009\n",
      "Epoch 9/25\n",
      "28/28 [==============================] - 33s 1s/step - loss: 0.8939 - accuracy: 0.7690 - val_loss: 1.4629 - val_accuracy: 0.6652\n",
      "Epoch 10/25\n",
      "28/28 [==============================] - 34s 1s/step - loss: 0.8612 - accuracy: 0.7433 - val_loss: 1.2771 - val_accuracy: 0.7232\n",
      "Epoch 11/25\n",
      "28/28 [==============================] - 33s 1s/step - loss: 0.8076 - accuracy: 0.7605 - val_loss: 1.2074 - val_accuracy: 0.7411\n",
      "Epoch 12/25\n",
      "28/28 [==============================] - 33s 1s/step - loss: 0.7235 - accuracy: 0.8103 - val_loss: 1.0475 - val_accuracy: 0.7857\n",
      "Epoch 13/25\n",
      "28/28 [==============================] - 33s 1s/step - loss: 0.7396 - accuracy: 0.7812 - val_loss: 1.0132 - val_accuracy: 0.7500\n",
      "Epoch 14/25\n",
      "28/28 [==============================] - 33s 1s/step - loss: 0.6693 - accuracy: 0.8241 - val_loss: 0.9144 - val_accuracy: 0.7946\n",
      "Epoch 15/25\n",
      "28/28 [==============================] - 33s 1s/step - loss: 0.6660 - accuracy: 0.8013 - val_loss: 0.8473 - val_accuracy: 0.7500\n",
      "Epoch 16/25\n",
      "28/28 [==============================] - 33s 1s/step - loss: 0.6299 - accuracy: 0.8195 - val_loss: 0.8028 - val_accuracy: 0.7634\n",
      "Epoch 17/25\n",
      "28/28 [==============================] - 33s 1s/step - loss: 0.5803 - accuracy: 0.8326 - val_loss: 0.7684 - val_accuracy: 0.7768\n",
      "Epoch 18/25\n",
      "28/28 [==============================] - 33s 1s/step - loss: 0.5788 - accuracy: 0.8309 - val_loss: 0.7112 - val_accuracy: 0.8170\n",
      "Epoch 19/25\n",
      "28/28 [==============================] - 33s 1s/step - loss: 0.5512 - accuracy: 0.8400 - val_loss: 0.6723 - val_accuracy: 0.8214\n",
      "Epoch 20/25\n",
      "28/28 [==============================] - 33s 1s/step - loss: 0.5294 - accuracy: 0.8468 - val_loss: 0.7520 - val_accuracy: 0.7545\n",
      "Epoch 21/25\n",
      "28/28 [==============================] - 34s 1s/step - loss: 0.5095 - accuracy: 0.8493 - val_loss: 0.6527 - val_accuracy: 0.7768\n",
      "Epoch 22/25\n",
      "28/28 [==============================] - 33s 1s/step - loss: 0.4903 - accuracy: 0.8558 - val_loss: 0.6964 - val_accuracy: 0.7679\n",
      "Epoch 23/25\n",
      "28/28 [==============================] - 34s 1s/step - loss: 0.4635 - accuracy: 0.8638 - val_loss: 0.6184 - val_accuracy: 0.7991\n",
      "Epoch 24/25\n",
      "28/28 [==============================] - 34s 1s/step - loss: 0.4318 - accuracy: 0.8795 - val_loss: 0.5869 - val_accuracy: 0.8080\n",
      "Epoch 25/25\n",
      "28/28 [==============================] - 33s 1s/step - loss: 0.4659 - accuracy: 0.8570 - val_loss: 0.5518 - val_accuracy: 0.8393\n"
     ]
    }
   ],
   "source": [
    "batch_size = 64\n",
    "H = model.fit(train_images,\n",
    "            batch_size=batch_size,\n",
    "            validation_data=val_images,\n",
    "            steps_per_epoch=train_images.samples // batch_size,\n",
    "            validation_steps=val_images.samples // batch_size,\n",
    "            epochs=25,\n",
    "            verbose=1)\n"
   ]
  },
  {
   "cell_type": "markdown",
   "id": "df796d8d-dc20-4e60-9b89-4ac999fbb130",
   "metadata": {},
   "source": [
    "__Inspect__"
   ]
  },
  {
   "cell_type": "code",
   "execution_count": 24,
   "id": "258a52ea-38ec-429e-a121-6f62705d5bf9",
   "metadata": {
    "execution": {
     "iopub.execute_input": "2022-04-19T19:25:57.578025Z",
     "iopub.status.busy": "2022-04-19T19:25:57.577534Z",
     "iopub.status.idle": "2022-04-19T19:25:57.820903Z",
     "shell.execute_reply": "2022-04-19T19:25:57.820297Z",
     "shell.execute_reply.started": "2022-04-19T19:25:57.577971Z"
    },
    "tags": []
   },
   "outputs": [
    {
     "name": "stderr",
     "output_type": "stream",
     "text": [
      "/tmp/ipykernel_863/3716877966.py:2: MatplotlibDeprecationWarning: The seaborn styles shipped by Matplotlib are deprecated since 3.6, as they no longer correspond to the styles shipped by seaborn. However, they will remain available as 'seaborn-v0_8-<style>'. Alternatively, directly use the seaborn API instead.\n",
      "  plt.style.use(\"seaborn-colorblind\")\n"
     ]
    },
    {
     "data": {
      "image/png": "[encoded data removed]",
      "text/plain": [
       "<Figure size 1200x600 with 2 Axes>"
      ]
     },
     "metadata": {},
     "output_type": "display_data"
    }
   ],
   "source": [
    "plot_history(H, 25)"
   ]
  },
  {
   "cell_type": "markdown",
   "id": "36a78188",
   "metadata": {},
   "source": [
    "Still more epochs would help but does seem a bit better?"
   ]
  },
  {
   "cell_type": "markdown",
   "id": "1dad7ff0-6f15-49f4-943c-0f8ea9d3538c",
   "metadata": {},
   "source": [
    "__Evaluate__"
   ]
  },
  {
   "cell_type": "code",
   "execution_count": 25,
   "id": "63b29442",
   "metadata": {},
   "outputs": [
    {
     "name": "stderr",
     "output_type": "stream",
     "text": [
      "2023-05-20 00:29:23.909945: I tensorflow/core/common_runtime/executor.cc:1197] [/device:CPU:0] (DEBUG INFO) Executor start aborting (this does not indicate an error and you can ignore this message): INVALID_ARGUMENT: You must feed a value for placeholder tensor 'Placeholder/_0' with dtype int32\n",
      "\t [[{{node Placeholder/_0}}]]\n"
     ]
    },
    {
     "name": "stdout",
     "output_type": "stream",
     "text": [
      "33/33 [==============================] - 30s 916ms/step - loss: 0.7026 - accuracy: 0.7776\n"
     ]
    },
    {
     "data": {
      "text/plain": [
       "[0.7026249766349792, 0.7775609493255615]"
      ]
     },
     "execution_count": 25,
     "metadata": {},
     "output_type": "execute_result"
    }
   ],
   "source": [
    "model.evaluate(test_images)"
   ]
  },
  {
   "cell_type": "markdown",
   "id": "5adcab9b",
   "metadata": {},
   "source": [
    "accuracy has vastly improved when evaluating the test images but what does that mean when below it has barely improved?"
   ]
  },
  {
   "cell_type": "code",
   "execution_count": 26,
   "id": "6cf5eadd-df2f-42bc-8535-470fa910ed1c",
   "metadata": {
    "execution": {
     "iopub.execute_input": "2022-04-19T19:26:05.726153Z",
     "iopub.status.busy": "2022-04-19T19:26:05.725664Z",
     "iopub.status.idle": "2022-04-19T19:26:10.821945Z",
     "shell.execute_reply": "2022-04-19T19:26:10.821391Z",
     "shell.execute_reply.started": "2022-04-19T19:26:05.726098Z"
    },
    "tags": []
   },
   "outputs": [
    {
     "name": "stderr",
     "output_type": "stream",
     "text": [
      "2023-05-20 00:29:57.597459: I tensorflow/core/common_runtime/executor.cc:1197] [/device:CPU:0] (DEBUG INFO) Executor start aborting (this does not indicate an error and you can ignore this message): INVALID_ARGUMENT: You must feed a value for placeholder tensor 'Placeholder/_0' with dtype int32\n",
      "\t [[{{node Placeholder/_0}}]]\n"
     ]
    },
    {
     "name": "stdout",
     "output_type": "stream",
     "text": [
      "33/33 [==============================] - 30s 906ms/step\n",
      "              precision    recall  f1-score   support\n",
      "\n",
      "       Apple       0.10      0.08      0.09        89\n",
      "      Banana       0.14      0.16      0.15       106\n",
      "     avocado       0.08      0.09      0.08       105\n",
      "      cherry       0.08      0.10      0.09       105\n",
      "        kiwi       0.11      0.10      0.11       105\n",
      "       mango       0.04      0.04      0.04       105\n",
      "      orange       0.10      0.10      0.10        97\n",
      "  pinenapple       0.12      0.12      0.12       105\n",
      "strawberries       0.13      0.10      0.11       103\n",
      "  watermelon       0.09      0.09      0.09       105\n",
      "\n",
      "    accuracy                           0.10      1025\n",
      "   macro avg       0.10      0.10      0.10      1025\n",
      "weighted avg       0.10      0.10      0.10      1025\n",
      "\n"
     ]
    }
   ],
   "source": [
    "predictions = model.predict(test_images, batch_size=32)\n",
    "print(classification_report(test_images.classes,\n",
    "                            predictions.argmax(axis=1),\n",
    "                            target_names=classes))"
   ]
  },
  {
   "cell_type": "markdown",
   "id": "b418bbad",
   "metadata": {},
   "source": [
    "Have only increased the f1/accuracy by 2% by adding a hidden layer and minor data augmentation. Mango is the serious struggle, the rest seem to be doing \"okay\" comparatively. "
   ]
  },
  {
   "cell_type": "markdown",
   "id": "37d618b3",
   "metadata": {},
   "source": [
    "Have increased f1/accuracy by 5% by adding the batch normalization, adding one hidden layer and some minor data augmentation. Cats are the only category that is struggling. "
   ]
  }
 ],
 "metadata": {
  "kernelspec": {
   "display_name": "Python 3",
   "language": "python",
   "name": "python3"
  },
  "language_info": {
   "codemirror_mode": {
    "name": "ipython",
    "version": 3
   },
   "file_extension": ".py",
   "mimetype": "text/x-python",
   "name": "python",
   "nbconvert_exporter": "python",
   "pygments_lexer": "ipython3",
   "version": "3.9.2"
  },
  "vscode": {
   "interpreter": {
    "hash": "767d51c1340bd893661ea55ea3124f6de3c7a262a8b4abca0554b478b1e2ff90"
   }
  }
 },
 "nbformat": 4,
 "nbformat_minor": 5
}
